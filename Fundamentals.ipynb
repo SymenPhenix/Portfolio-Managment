{
 "cells": [
  {
   "cell_type": "code",
   "execution_count": 3,
   "metadata": {},
   "outputs": [],
   "source": [
    "import numpy as np\n",
    "import pandas as pd\n",
    "import matplotlib.pyplot as plt\n",
    "import pandas_datareader as web\n",
    "from pandas_datareader import get_data_yahoo as yahoo\n",
    "from pandas_datareader.data import YahooOptions as opt\n",
    "from datetime import datetime as date\n",
    "import mplfinance as mpl\n",
    "from fbprophet import Prophet\n",
    "from scipy import stats"
   ]
  },
  {
   "cell_type": "code",
   "execution_count": 3,
   "metadata": {},
   "outputs": [],
   "source": [
    "start = date(2015,6,1)\n",
    "end = date(2021,6,1)"
   ]
  },
  {
   "cell_type": "code",
   "execution_count": 58,
   "metadata": {},
   "outputs": [],
   "source": [
    "gof = yahoo('gof')\n",
    "wti = yahoo('ibm')\n",
    "xlf = yahoo('carv')\n",
    "spy = yahoo('spy')"
   ]
  },
  {
   "cell_type": "code",
   "execution_count": 5,
   "metadata": {},
   "outputs": [],
   "source": [
    "for stock_df in (gof,wti,xlf):\n",
    "    stock_df['Norm Return'] = stock_df['Adj Close']/stock_df.iloc[0]['Adj Close']"
   ]
  },
  {
   "cell_type": "code",
   "execution_count": 6,
   "metadata": {},
   "outputs": [],
   "source": [
    "gofc = gof[['Adj Close','Norm Return']]\n",
    "wtic = wti[['Adj Close','Norm Return']]\n",
    "xlfc = xlf[['Adj Close','Norm Return']]"
   ]
  },
  {
   "cell_type": "code",
   "execution_count": 7,
   "metadata": {},
   "outputs": [],
   "source": [
    "for stock_df, allo in zip((gof,wti,xlf),[.38,.08,.54]):\n",
    "    stock_df['Allocation'] = stock_df['Norm Return']*allo"
   ]
  },
  {
   "cell_type": "code",
   "execution_count": 8,
   "metadata": {},
   "outputs": [],
   "source": [
    "for stock_df in (gof,wti,xlf):\n",
    "    stock_df['Position'] = stock_df['Allocation']*2200"
   ]
  },
  {
   "cell_type": "code",
   "execution_count": 9,
   "metadata": {},
   "outputs": [
    {
     "data": {
      "text/html": [
       "<div>\n",
       "<style scoped>\n",
       "    .dataframe tbody tr th:only-of-type {\n",
       "        vertical-align: middle;\n",
       "    }\n",
       "\n",
       "    .dataframe tbody tr th {\n",
       "        vertical-align: top;\n",
       "    }\n",
       "\n",
       "    .dataframe thead th {\n",
       "        text-align: right;\n",
       "    }\n",
       "</style>\n",
       "<table border=\"1\" class=\"dataframe\">\n",
       "  <thead>\n",
       "    <tr style=\"text-align: right;\">\n",
       "      <th></th>\n",
       "      <th>High</th>\n",
       "      <th>Low</th>\n",
       "      <th>Open</th>\n",
       "      <th>Close</th>\n",
       "      <th>Volume</th>\n",
       "      <th>Adj Close</th>\n",
       "      <th>Norm Return</th>\n",
       "      <th>Allocation</th>\n",
       "      <th>Position</th>\n",
       "    </tr>\n",
       "    <tr>\n",
       "      <th>Date</th>\n",
       "      <th></th>\n",
       "      <th></th>\n",
       "      <th></th>\n",
       "      <th></th>\n",
       "      <th></th>\n",
       "      <th></th>\n",
       "      <th></th>\n",
       "      <th></th>\n",
       "      <th></th>\n",
       "    </tr>\n",
       "  </thead>\n",
       "  <tbody>\n",
       "    <tr>\n",
       "      <th>2021-05-25</th>\n",
       "      <td>8.28</td>\n",
       "      <td>7.75</td>\n",
       "      <td>8.01</td>\n",
       "      <td>7.90</td>\n",
       "      <td>354400</td>\n",
       "      <td>7.90</td>\n",
       "      <td>1.755556</td>\n",
       "      <td>0.9480</td>\n",
       "      <td>2085.600025</td>\n",
       "    </tr>\n",
       "    <tr>\n",
       "      <th>2021-05-26</th>\n",
       "      <td>8.43</td>\n",
       "      <td>7.91</td>\n",
       "      <td>7.98</td>\n",
       "      <td>8.00</td>\n",
       "      <td>578400</td>\n",
       "      <td>8.00</td>\n",
       "      <td>1.777778</td>\n",
       "      <td>0.9600</td>\n",
       "      <td>2112.000000</td>\n",
       "    </tr>\n",
       "    <tr>\n",
       "      <th>2021-05-27</th>\n",
       "      <td>8.35</td>\n",
       "      <td>7.95</td>\n",
       "      <td>7.95</td>\n",
       "      <td>8.25</td>\n",
       "      <td>220800</td>\n",
       "      <td>8.25</td>\n",
       "      <td>1.833333</td>\n",
       "      <td>0.9900</td>\n",
       "      <td>2178.000000</td>\n",
       "    </tr>\n",
       "    <tr>\n",
       "      <th>2021-05-28</th>\n",
       "      <td>8.69</td>\n",
       "      <td>8.16</td>\n",
       "      <td>8.21</td>\n",
       "      <td>8.56</td>\n",
       "      <td>184900</td>\n",
       "      <td>8.56</td>\n",
       "      <td>1.902222</td>\n",
       "      <td>1.0272</td>\n",
       "      <td>2259.840111</td>\n",
       "    </tr>\n",
       "    <tr>\n",
       "      <th>2021-06-01</th>\n",
       "      <td>9.19</td>\n",
       "      <td>8.60</td>\n",
       "      <td>8.67</td>\n",
       "      <td>9.14</td>\n",
       "      <td>274100</td>\n",
       "      <td>9.14</td>\n",
       "      <td>2.031111</td>\n",
       "      <td>1.0968</td>\n",
       "      <td>2412.960091</td>\n",
       "    </tr>\n",
       "  </tbody>\n",
       "</table>\n",
       "</div>"
      ],
      "text/plain": [
       "            High   Low  Open  Close  Volume  Adj Close  Norm Return  \\\n",
       "Date                                                                  \n",
       "2021-05-25  8.28  7.75  8.01   7.90  354400       7.90     1.755556   \n",
       "2021-05-26  8.43  7.91  7.98   8.00  578400       8.00     1.777778   \n",
       "2021-05-27  8.35  7.95  7.95   8.25  220800       8.25     1.833333   \n",
       "2021-05-28  8.69  8.16  8.21   8.56  184900       8.56     1.902222   \n",
       "2021-06-01  9.19  8.60  8.67   9.14  274100       9.14     2.031111   \n",
       "\n",
       "            Allocation     Position  \n",
       "Date                                 \n",
       "2021-05-25      0.9480  2085.600025  \n",
       "2021-05-26      0.9600  2112.000000  \n",
       "2021-05-27      0.9900  2178.000000  \n",
       "2021-05-28      1.0272  2259.840111  \n",
       "2021-06-01      1.0968  2412.960091  "
      ]
     },
     "execution_count": 9,
     "metadata": {},
     "output_type": "execute_result"
    }
   ],
   "source": [
    "xlf.tail()"
   ]
  },
  {
   "cell_type": "code",
   "execution_count": 10,
   "metadata": {},
   "outputs": [],
   "source": [
    "Portfolio = gof[['Position']],wti[['Position']],xlf[['Position']]"
   ]
  },
  {
   "cell_type": "code",
   "execution_count": 11,
   "metadata": {},
   "outputs": [],
   "source": [
    "portfolio_val = pd.concat(Portfolio,axis=1)"
   ]
  },
  {
   "cell_type": "code",
   "execution_count": 12,
   "metadata": {},
   "outputs": [],
   "source": [
    "portfolio_val.columns = ['GOF Pos','WTI Pos','XFL Pos']"
   ]
  },
  {
   "cell_type": "code",
   "execution_count": 13,
   "metadata": {},
   "outputs": [],
   "source": [
    "portfolio_val['Total']=portfolio_val.sum(axis=1)"
   ]
  },
  {
   "cell_type": "code",
   "execution_count": 14,
   "metadata": {},
   "outputs": [
    {
     "data": {
      "text/html": [
       "<div>\n",
       "<style scoped>\n",
       "    .dataframe tbody tr th:only-of-type {\n",
       "        vertical-align: middle;\n",
       "    }\n",
       "\n",
       "    .dataframe tbody tr th {\n",
       "        vertical-align: top;\n",
       "    }\n",
       "\n",
       "    .dataframe thead th {\n",
       "        text-align: right;\n",
       "    }\n",
       "</style>\n",
       "<table border=\"1\" class=\"dataframe\">\n",
       "  <thead>\n",
       "    <tr style=\"text-align: right;\">\n",
       "      <th></th>\n",
       "      <th>GOF Pos</th>\n",
       "      <th>WTI Pos</th>\n",
       "      <th>XFL Pos</th>\n",
       "      <th>Total</th>\n",
       "    </tr>\n",
       "    <tr>\n",
       "      <th>Date</th>\n",
       "      <th></th>\n",
       "      <th></th>\n",
       "      <th></th>\n",
       "      <th></th>\n",
       "    </tr>\n",
       "  </thead>\n",
       "  <tbody>\n",
       "    <tr>\n",
       "      <th>2015-06-01</th>\n",
       "      <td>836.000000</td>\n",
       "      <td>176.000000</td>\n",
       "      <td>1188.000000</td>\n",
       "      <td>2200.000000</td>\n",
       "    </tr>\n",
       "    <tr>\n",
       "      <th>2015-06-02</th>\n",
       "      <td>836.790947</td>\n",
       "      <td>175.451861</td>\n",
       "      <td>1261.920055</td>\n",
       "      <td>2274.162864</td>\n",
       "    </tr>\n",
       "    <tr>\n",
       "      <th>2015-06-03</th>\n",
       "      <td>836.000000</td>\n",
       "      <td>175.731168</td>\n",
       "      <td>1195.920055</td>\n",
       "      <td>2207.651224</td>\n",
       "    </tr>\n",
       "    <tr>\n",
       "      <th>2015-06-04</th>\n",
       "      <td>836.000000</td>\n",
       "      <td>174.138432</td>\n",
       "      <td>1140.480045</td>\n",
       "      <td>2150.618477</td>\n",
       "    </tr>\n",
       "    <tr>\n",
       "      <th>2015-06-05</th>\n",
       "      <td>832.834488</td>\n",
       "      <td>173.124973</td>\n",
       "      <td>1164.239960</td>\n",
       "      <td>2170.199421</td>\n",
       "    </tr>\n",
       "    <tr>\n",
       "      <th>...</th>\n",
       "      <td>...</td>\n",
       "      <td>...</td>\n",
       "      <td>...</td>\n",
       "      <td>...</td>\n",
       "    </tr>\n",
       "    <tr>\n",
       "      <th>2021-05-25</th>\n",
       "      <td>1611.582243</td>\n",
       "      <td>192.794174</td>\n",
       "      <td>2085.600025</td>\n",
       "      <td>3889.976442</td>\n",
       "    </tr>\n",
       "    <tr>\n",
       "      <th>2021-05-26</th>\n",
       "      <td>1592.888354</td>\n",
       "      <td>192.244460</td>\n",
       "      <td>2112.000000</td>\n",
       "      <td>3897.132813</td>\n",
       "    </tr>\n",
       "    <tr>\n",
       "      <th>2021-05-27</th>\n",
       "      <td>1613.140017</td>\n",
       "      <td>192.834416</td>\n",
       "      <td>2178.000000</td>\n",
       "      <td>3983.974434</td>\n",
       "    </tr>\n",
       "    <tr>\n",
       "      <th>2021-05-28</th>\n",
       "      <td>1627.939471</td>\n",
       "      <td>192.727150</td>\n",
       "      <td>2259.840111</td>\n",
       "      <td>4080.506731</td>\n",
       "    </tr>\n",
       "    <tr>\n",
       "      <th>2021-06-01</th>\n",
       "      <td>1634.949754</td>\n",
       "      <td>193.330507</td>\n",
       "      <td>2412.960091</td>\n",
       "      <td>4241.240352</td>\n",
       "    </tr>\n",
       "  </tbody>\n",
       "</table>\n",
       "<p>1512 rows × 4 columns</p>\n",
       "</div>"
      ],
      "text/plain": [
       "                GOF Pos     WTI Pos      XFL Pos        Total\n",
       "Date                                                         \n",
       "2015-06-01   836.000000  176.000000  1188.000000  2200.000000\n",
       "2015-06-02   836.790947  175.451861  1261.920055  2274.162864\n",
       "2015-06-03   836.000000  175.731168  1195.920055  2207.651224\n",
       "2015-06-04   836.000000  174.138432  1140.480045  2150.618477\n",
       "2015-06-05   832.834488  173.124973  1164.239960  2170.199421\n",
       "...                 ...         ...          ...          ...\n",
       "2021-05-25  1611.582243  192.794174  2085.600025  3889.976442\n",
       "2021-05-26  1592.888354  192.244460  2112.000000  3897.132813\n",
       "2021-05-27  1613.140017  192.834416  2178.000000  3983.974434\n",
       "2021-05-28  1627.939471  192.727150  2259.840111  4080.506731\n",
       "2021-06-01  1634.949754  193.330507  2412.960091  4241.240352\n",
       "\n",
       "[1512 rows x 4 columns]"
      ]
     },
     "execution_count": 14,
     "metadata": {},
     "output_type": "execute_result"
    }
   ],
   "source": [
    "portfolio_val"
   ]
  },
  {
   "cell_type": "code",
   "execution_count": 15,
   "metadata": {},
   "outputs": [
    {
     "data": {
      "image/png": "[encoded data removed]",
      "text/plain": [
       "<Figure size 720x720 with 1 Axes>"
      ]
     },
     "metadata": {
      "needs_background": "light"
     },
     "output_type": "display_data"
    }
   ],
   "source": [
    "portfolio_val['Total'].plot(figsize=(10,10));"
   ]
  },
  {
   "cell_type": "code",
   "execution_count": 16,
   "metadata": {},
   "outputs": [
    {
     "data": {
      "text/plain": [
       "4241.240352240433"
      ]
     },
     "execution_count": 16,
     "metadata": {},
     "output_type": "execute_result"
    }
   ],
   "source": [
    "portfolio_val.loc['2021-06-01']['Total']"
   ]
  },
  {
   "cell_type": "code",
   "execution_count": 17,
   "metadata": {},
   "outputs": [
    {
     "data": {
      "text/plain": [
       "610.9259818609562"
      ]
     },
     "execution_count": 17,
     "metadata": {},
     "output_type": "execute_result"
    }
   ],
   "source": [
    "np.std(portfolio_val['Total'])"
   ]
  },
  {
   "cell_type": "code",
   "execution_count": 18,
   "metadata": {},
   "outputs": [],
   "source": [
    "#Sharpe Ratio (S=[Protfolio Return(Rp)-Risk-free Return(Rf)]/Portfolio Standard Diviation(Sp))\n",
    "#Note: Risk free is what you would recieve if you used an alt investment such as savings accounts or bonds\n",
    "Rp = portfolio_val.loc['2015-06-01']['Total']\n",
    "Rf = .0156\n",
    "Sp = np.std(portfolio_val['Total'])"
   ]
  },
  {
   "cell_type": "code",
   "execution_count": 19,
   "metadata": {},
   "outputs": [],
   "source": [
    "SR = (Rp-Rf)/Sp"
   ]
  },
  {
   "cell_type": "code",
   "execution_count": 20,
   "metadata": {},
   "outputs": [
    {
     "data": {
      "text/plain": [
       "3.6010653750534147"
      ]
     },
     "execution_count": 20,
     "metadata": {},
     "output_type": "execute_result"
    }
   ],
   "source": [
    "SR"
   ]
  },
  {
   "cell_type": "code",
   "execution_count": 21,
   "metadata": {},
   "outputs": [],
   "source": [
    "#Annual average (daily instead of yearly)\n",
    "k = np.sqrt(252)\n",
    "#Annual Sharpe Ratio\n",
    "ASR = k*SR"
   ]
  },
  {
   "cell_type": "code",
   "execution_count": 22,
   "metadata": {},
   "outputs": [
    {
     "data": {
      "text/plain": [
       "57.165140623661244"
      ]
     },
     "execution_count": 22,
     "metadata": {},
     "output_type": "execute_result"
    }
   ],
   "source": [
    "ASR"
   ]
  },
  {
   "cell_type": "code",
   "execution_count": 23,
   "metadata": {},
   "outputs": [],
   "source": [
    "eur = yahoo('eurusd=x',start)\n",
    "nzd = yahoo('nzdusd=x',start)\n",
    "gbp = yahoo('gbpusd=x',start)\n",
    "aud = yahoo('audusd=x',start)"
   ]
  },
  {
   "cell_type": "code",
   "execution_count": 24,
   "metadata": {},
   "outputs": [],
   "source": [
    "eurac = eur[['Adj Close']]\n",
    "nzdac = nzd[['Adj Close']]\n",
    "gbpac = gbp[['Adj Close']]\n",
    "audac = aud[['Adj Close']]"
   ]
  },
  {
   "cell_type": "code",
   "execution_count": 25,
   "metadata": {},
   "outputs": [],
   "source": [
    "stocks = pd.concat([eurac,nzdac,gbpac,audac],axis=1)\n",
    "stocks.columns = ['EUR','NZD','GBP','AUD']"
   ]
  },
  {
   "cell_type": "code",
   "execution_count": 27,
   "metadata": {},
   "outputs": [
    {
     "data": {
      "text/plain": [
       "EUR    0.000065\n",
       "NZD    0.000010\n",
       "GBP   -0.000042\n",
       "AUD    0.000009\n",
       "dtype: float64"
      ]
     },
     "execution_count": 27,
     "metadata": {},
     "output_type": "execute_result"
    }
   ],
   "source": [
    "stocks.pct_change(1).mean()"
   ]
  },
  {
   "cell_type": "code",
   "execution_count": 28,
   "metadata": {},
   "outputs": [
    {
     "data": {
      "text/plain": [
       "EUR    0.000053\n",
       "NZD   -0.000011\n",
       "GBP   -0.000061\n",
       "AUD   -0.000011\n",
       "dtype: float64"
      ]
     },
     "execution_count": 28,
     "metadata": {},
     "output_type": "execute_result"
    }
   ],
   "source": [
    "log_ret = np.log(stocks/stocks.shift(1))\n",
    "log_ret.mean()"
   ]
  },
  {
   "cell_type": "code",
   "execution_count": 29,
   "metadata": {},
   "outputs": [
    {
     "data": {
      "text/html": [
       "<div>\n",
       "<style scoped>\n",
       "    .dataframe tbody tr th:only-of-type {\n",
       "        vertical-align: middle;\n",
       "    }\n",
       "\n",
       "    .dataframe tbody tr th {\n",
       "        vertical-align: top;\n",
       "    }\n",
       "\n",
       "    .dataframe thead th {\n",
       "        text-align: right;\n",
       "    }\n",
       "</style>\n",
       "<table border=\"1\" class=\"dataframe\">\n",
       "  <thead>\n",
       "    <tr style=\"text-align: right;\">\n",
       "      <th></th>\n",
       "      <th>EUR</th>\n",
       "      <th>NZD</th>\n",
       "      <th>GBP</th>\n",
       "      <th>AUD</th>\n",
       "    </tr>\n",
       "  </thead>\n",
       "  <tbody>\n",
       "    <tr>\n",
       "      <th>EUR</th>\n",
       "      <td>0.005841</td>\n",
       "      <td>0.003808</td>\n",
       "      <td>0.003840</td>\n",
       "      <td>0.003559</td>\n",
       "    </tr>\n",
       "    <tr>\n",
       "      <th>NZD</th>\n",
       "      <td>0.003808</td>\n",
       "      <td>0.010558</td>\n",
       "      <td>0.004599</td>\n",
       "      <td>0.007992</td>\n",
       "    </tr>\n",
       "    <tr>\n",
       "      <th>GBP</th>\n",
       "      <td>0.003840</td>\n",
       "      <td>0.004599</td>\n",
       "      <td>0.009312</td>\n",
       "      <td>0.004613</td>\n",
       "    </tr>\n",
       "    <tr>\n",
       "      <th>AUD</th>\n",
       "      <td>0.003559</td>\n",
       "      <td>0.007992</td>\n",
       "      <td>0.004613</td>\n",
       "      <td>0.009691</td>\n",
       "    </tr>\n",
       "  </tbody>\n",
       "</table>\n",
       "</div>"
      ],
      "text/plain": [
       "          EUR       NZD       GBP       AUD\n",
       "EUR  0.005841  0.003808  0.003840  0.003559\n",
       "NZD  0.003808  0.010558  0.004599  0.007992\n",
       "GBP  0.003840  0.004599  0.009312  0.004613\n",
       "AUD  0.003559  0.007992  0.004613  0.009691"
      ]
     },
     "execution_count": 29,
     "metadata": {},
     "output_type": "execute_result"
    }
   ],
   "source": [
    "log_ret.cov()*252"
   ]
  },
  {
   "cell_type": "code",
   "execution_count": 30,
   "metadata": {},
   "outputs": [
    {
     "data": {
      "text/html": [
       "<div>\n",
       "<style scoped>\n",
       "    .dataframe tbody tr th:only-of-type {\n",
       "        vertical-align: middle;\n",
       "    }\n",
       "\n",
       "    .dataframe tbody tr th {\n",
       "        vertical-align: top;\n",
       "    }\n",
       "\n",
       "    .dataframe thead th {\n",
       "        text-align: right;\n",
       "    }\n",
       "</style>\n",
       "<table border=\"1\" class=\"dataframe\">\n",
       "  <thead>\n",
       "    <tr style=\"text-align: right;\">\n",
       "      <th></th>\n",
       "      <th>High</th>\n",
       "      <th>Low</th>\n",
       "      <th>Open</th>\n",
       "      <th>Close</th>\n",
       "      <th>Volume</th>\n",
       "      <th>Adj Close</th>\n",
       "    </tr>\n",
       "    <tr>\n",
       "      <th>Date</th>\n",
       "      <th></th>\n",
       "      <th></th>\n",
       "      <th></th>\n",
       "      <th></th>\n",
       "      <th></th>\n",
       "      <th></th>\n",
       "    </tr>\n",
       "  </thead>\n",
       "  <tbody>\n",
       "    <tr>\n",
       "      <th>2015-05-31</th>\n",
       "      <td>1.098000</td>\n",
       "      <td>1.088890</td>\n",
       "      <td>1.095902</td>\n",
       "      <td>1.095794</td>\n",
       "      <td>0.0</td>\n",
       "      <td>1.095794</td>\n",
       "    </tr>\n",
       "    <tr>\n",
       "      <th>2015-06-01</th>\n",
       "      <td>1.116630</td>\n",
       "      <td>1.091941</td>\n",
       "      <td>1.092275</td>\n",
       "      <td>1.092299</td>\n",
       "      <td>0.0</td>\n",
       "      <td>1.092299</td>\n",
       "    </tr>\n",
       "    <tr>\n",
       "      <th>2015-06-02</th>\n",
       "      <td>1.128329</td>\n",
       "      <td>1.108679</td>\n",
       "      <td>1.114827</td>\n",
       "      <td>1.115001</td>\n",
       "      <td>0.0</td>\n",
       "      <td>1.115001</td>\n",
       "    </tr>\n",
       "    <tr>\n",
       "      <th>2015-06-03</th>\n",
       "      <td>1.137605</td>\n",
       "      <td>1.123260</td>\n",
       "      <td>1.126228</td>\n",
       "      <td>1.125784</td>\n",
       "      <td>0.0</td>\n",
       "      <td>1.125784</td>\n",
       "    </tr>\n",
       "    <tr>\n",
       "      <th>2015-06-04</th>\n",
       "      <td>1.128020</td>\n",
       "      <td>1.105180</td>\n",
       "      <td>1.121604</td>\n",
       "      <td>1.120787</td>\n",
       "      <td>0.0</td>\n",
       "      <td>1.120787</td>\n",
       "    </tr>\n",
       "    <tr>\n",
       "      <th>...</th>\n",
       "      <td>...</td>\n",
       "      <td>...</td>\n",
       "      <td>...</td>\n",
       "      <td>...</td>\n",
       "      <td>...</td>\n",
       "      <td>...</td>\n",
       "    </tr>\n",
       "    <tr>\n",
       "      <th>2021-06-15</th>\n",
       "      <td>1.213499</td>\n",
       "      <td>1.211035</td>\n",
       "      <td>1.212547</td>\n",
       "      <td>1.212709</td>\n",
       "      <td>0.0</td>\n",
       "      <td>1.212709</td>\n",
       "    </tr>\n",
       "    <tr>\n",
       "      <th>2021-06-16</th>\n",
       "      <td>1.200769</td>\n",
       "      <td>1.190703</td>\n",
       "      <td>1.199185</td>\n",
       "      <td>1.199559</td>\n",
       "      <td>0.0</td>\n",
       "      <td>1.199559</td>\n",
       "    </tr>\n",
       "    <tr>\n",
       "      <th>2021-06-17</th>\n",
       "      <td>1.192748</td>\n",
       "      <td>1.185115</td>\n",
       "      <td>1.191327</td>\n",
       "      <td>1.191341</td>\n",
       "      <td>0.0</td>\n",
       "      <td>1.191341</td>\n",
       "    </tr>\n",
       "    <tr>\n",
       "      <th>2021-06-20</th>\n",
       "      <td>1.192051</td>\n",
       "      <td>1.184876</td>\n",
       "      <td>1.186901</td>\n",
       "      <td>1.187366</td>\n",
       "      <td>0.0</td>\n",
       "      <td>1.187366</td>\n",
       "    </tr>\n",
       "    <tr>\n",
       "      <th>2021-06-22</th>\n",
       "      <td>1.192748</td>\n",
       "      <td>1.190476</td>\n",
       "      <td>1.192464</td>\n",
       "      <td>1.190618</td>\n",
       "      <td>0.0</td>\n",
       "      <td>1.190618</td>\n",
       "    </tr>\n",
       "  </tbody>\n",
       "</table>\n",
       "<p>1559 rows × 6 columns</p>\n",
       "</div>"
      ],
      "text/plain": [
       "                High       Low      Open     Close  Volume  Adj Close\n",
       "Date                                                                 \n",
       "2015-05-31  1.098000  1.088890  1.095902  1.095794     0.0   1.095794\n",
       "2015-06-01  1.116630  1.091941  1.092275  1.092299     0.0   1.092299\n",
       "2015-06-02  1.128329  1.108679  1.114827  1.115001     0.0   1.115001\n",
       "2015-06-03  1.137605  1.123260  1.126228  1.125784     0.0   1.125784\n",
       "2015-06-04  1.128020  1.105180  1.121604  1.120787     0.0   1.120787\n",
       "...              ...       ...       ...       ...     ...        ...\n",
       "2021-06-15  1.213499  1.211035  1.212547  1.212709     0.0   1.212709\n",
       "2021-06-16  1.200769  1.190703  1.199185  1.199559     0.0   1.199559\n",
       "2021-06-17  1.192748  1.185115  1.191327  1.191341     0.0   1.191341\n",
       "2021-06-20  1.192051  1.184876  1.186901  1.187366     0.0   1.187366\n",
       "2021-06-22  1.192748  1.190476  1.192464  1.190618     0.0   1.190618\n",
       "\n",
       "[1559 rows x 6 columns]"
      ]
     },
     "execution_count": 30,
     "metadata": {},
     "output_type": "execute_result"
    }
   ],
   "source": [
    "eur"
   ]
  },
  {
   "cell_type": "code",
   "execution_count": 33,
   "metadata": {},
   "outputs": [],
   "source": [
    "spy = yahoo('spy', start)"
   ]
  },
  {
   "cell_type": "code",
   "execution_count": 65,
   "metadata": {},
   "outputs": [],
   "source": [
    "gof['Cumulative']=gof['Close']/gof['Close'].iloc[0]\n",
    "spy['Cumulative']=spy['Close']/spy['Close'].iloc[0]"
   ]
  },
  {
   "cell_type": "code",
   "execution_count": 67,
   "metadata": {},
   "outputs": [
    {
     "data": {
      "image/png": "[encoded data removed]",
      "text/plain": [
       "<Figure size 1080x1080 with 1 Axes>"
      ]
     },
     "metadata": {
      "needs_background": "light"
     },
     "output_type": "display_data"
    }
   ],
   "source": [
    "gof['Cumulative'].plot(label='gof',figsize=(15,15))\n",
    "spy['Cumulative'].plot(label='spy')\n",
    "plt.legend();"
   ]
  },
  {
   "cell_type": "code",
   "execution_count": 68,
   "metadata": {},
   "outputs": [],
   "source": [
    "gof['Daily']=gof['Close'].pct_change(1)\n",
    "spy['Daily']=spy['Close'].pct_change(1)"
   ]
  },
  {
   "cell_type": "code",
   "execution_count": 69,
   "metadata": {},
   "outputs": [],
   "source": [
    "beta,alpha,r_value,p_value,std_err=stats.linregress(gof['Daily'].iloc[1:],\n",
    "                                                   spy['Daily'].iloc[1:])"
   ]
  },
  {
   "cell_type": "code",
   "execution_count": 70,
   "metadata": {},
   "outputs": [
    {
     "data": {
      "text/plain": [
       "0.3835007717016236"
      ]
     },
     "execution_count": 70,
     "metadata": {},
     "output_type": "execute_result"
    }
   ],
   "source": [
    "beta"
   ]
  },
  {
   "cell_type": "code",
   "execution_count": 71,
   "metadata": {},
   "outputs": [
    {
     "data": {
      "text/plain": [
       "0.0004901590743494982"
      ]
     },
     "execution_count": 71,
     "metadata": {},
     "output_type": "execute_result"
    }
   ],
   "source": [
    "alpha"
   ]
  }
 ],
 "metadata": {
  "kernelspec": {
   "display_name": "Python 3",
   "language": "python",
   "name": "python3"
  },
  "language_info": {
   "codemirror_mode": {
    "name": "ipython",
    "version": 3
   },
   "file_extension": ".py",
   "mimetype": "text/x-python",
   "name": "python",
   "nbconvert_exporter": "python",
   "pygments_lexer": "ipython3",
   "version": "3.8.3"
  }
 },
 "nbformat": 4,
 "nbformat_minor": 4
}
